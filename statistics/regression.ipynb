{
 "cells": [
  {
   "cell_type": "code",
   "execution_count": 1,
   "id": "6cabaab1",
   "metadata": {},
   "outputs": [],
   "source": [
    "import numpy as np\n",
    "import pandas as pd\n",
    "import matplotlib.pyplot as plt\n",
    "import scipy.stats as sts\n",
    "from statsmodels.stats.diagnostic import het_goldfeldquandt\n",
    "from sklearn.linear_model import LinearRegression\n",
    "from sklearn.feature_selection import f_regression\n",
    "from chow_test import chowtest"
   ]
  },
  {
   "cell_type": "markdown",
   "id": "8e031f61",
   "metadata": {},
   "source": [
    "## Описание задания"
   ]
  },
  {
   "cell_type": "code",
   "execution_count": 2,
   "id": "751912d1",
   "metadata": {
    "scrolled": true
   },
   "outputs": [
    {
     "name": "stdout",
     "output_type": "stream",
     "text": [
      "Для выполнения практического задания необходимо:\n",
      "1. Открыть папку, соотвествующую своей группе.\n",
      "2. Открыть папку с вариантом, совпадающим с вашим номером в списке.\n",
      "\n",
      "В папке 3 файла с данными.\n",
      "1-ый файл содержит 2 ряда данных. Необходимо построить линейную регрессию между ними (1-ый стоблец содержит факторную переменную, 2-ой результирующую), \n",
      "оценить значимость полученных коэффициентов прямой и построить доверительные интервалы для них, оценить адекватность модели.\n",
      "2-ой файл содержит 4 ряда данных. Первый ряд (столбец) содержит количественную факторную переменную, следующие два - качественную факторную переменную, последний - результирующую переменную.\n",
      "Необходимо с помощью теста Чоу обосновать необходимость деления выборки по одной из качественных факторных переменных. Произвести разбиение и построить две линейных регрессии.\n",
      "3-ий файл содержит 2 ряда данных. Необходимо двумя способами (тест Спирмена и тест Гольдфельда-Квандта) определить, \n",
      "присутствует ли в данных гетероскедастичность, построить линейную регрессию, оценить значимость полученных коэффициентов и адекватность модели.\n",
      "\n",
      "Все расчеты проводить для уровня значимости (альфа) = 0.05. \n"
     ]
    }
   ],
   "source": [
    "with open('../data/stats/regression/Описание.txt') as file:\n",
    "    print(file.read())"
   ]
  },
  {
   "cell_type": "markdown",
   "id": "676eb6a9",
   "metadata": {},
   "source": [
    "## Задание 1. Линейная регрессия: построение дов. интервалов для коэффициентов, оценка адекватности модели с помощью F-критерия"
   ]
  },
  {
   "cell_type": "code",
   "execution_count": 3,
   "id": "c8895456",
   "metadata": {},
   "outputs": [
    {
     "data": {
      "text/html": [
       "<div>\n",
       "<style scoped>\n",
       "    .dataframe tbody tr th:only-of-type {\n",
       "        vertical-align: middle;\n",
       "    }\n",
       "\n",
       "    .dataframe tbody tr th {\n",
       "        vertical-align: top;\n",
       "    }\n",
       "\n",
       "    .dataframe thead th {\n",
       "        text-align: right;\n",
       "    }\n",
       "</style>\n",
       "<table border=\"1\" class=\"dataframe\">\n",
       "  <thead>\n",
       "    <tr style=\"text-align: right;\">\n",
       "      <th></th>\n",
       "      <th>factor</th>\n",
       "      <th>result</th>\n",
       "    </tr>\n",
       "  </thead>\n",
       "  <tbody>\n",
       "    <tr>\n",
       "      <th>0</th>\n",
       "      <td>5.000000</td>\n",
       "      <td>-1.649232</td>\n",
       "    </tr>\n",
       "    <tr>\n",
       "      <th>1</th>\n",
       "      <td>5.202020</td>\n",
       "      <td>-2.240981</td>\n",
       "    </tr>\n",
       "    <tr>\n",
       "      <th>2</th>\n",
       "      <td>5.404040</td>\n",
       "      <td>-2.129472</td>\n",
       "    </tr>\n",
       "    <tr>\n",
       "      <th>3</th>\n",
       "      <td>5.606061</td>\n",
       "      <td>-2.373086</td>\n",
       "    </tr>\n",
       "    <tr>\n",
       "      <th>4</th>\n",
       "      <td>5.808081</td>\n",
       "      <td>-1.971503</td>\n",
       "    </tr>\n",
       "  </tbody>\n",
       "</table>\n",
       "</div>"
      ],
      "text/plain": [
       "     factor    result\n",
       "0  5.000000 -1.649232\n",
       "1  5.202020 -2.240981\n",
       "2  5.404040 -2.129472\n",
       "3  5.606061 -2.373086\n",
       "4  5.808081 -1.971503"
      ]
     },
     "execution_count": 3,
     "metadata": {},
     "output_type": "execute_result"
    }
   ],
   "source": [
    "data = pd.read_csv('../data/stats/regression/1.txt', sep=',', header=None, names=['factor', 'result'])\n",
    "data.head(5)"
   ]
  },
  {
   "cell_type": "code",
   "execution_count": 4,
   "id": "a27b74d6",
   "metadata": {},
   "outputs": [
    {
     "data": {
      "image/png": "[encoded data removed]",
      "text/plain": [
       "<Figure size 432x288 with 1 Axes>"
      ]
     },
     "metadata": {
      "needs_background": "light"
     },
     "output_type": "display_data"
    }
   ],
   "source": [
    "# Создание модели и подготовка данных\n",
    "lin_reg = LinearRegression()\n",
    "X = np.array(data['factor']).reshape((-1, 1))\n",
    "y = np.array(data['result']).reshape((-1, 1))\n",
    "\n",
    "# Обучение и предсказание, расчет метрики R^2\n",
    "lin_reg.fit(X, y)\n",
    "y_predicted = lin_reg.predict(X)\n",
    "r2 = lin_reg.score(X, y)\n",
    "\n",
    "# Построение графика\n",
    "plt.title(f'Linear regression. $R^2$={r2.round(2)}')\n",
    "plt.scatter(X, y, alpha=0.5, color='red')\n",
    "plt.plot(X, y_predicted, color='blue')\n",
    "plt.xlabel('$factor$')\n",
    "plt.ylabel('$result$')\n",
    "plt.show()"
   ]
  },
  {
   "cell_type": "markdown",
   "id": "a04e923a",
   "metadata": {},
   "source": [
    "По графику видно, что полученная линейная модель достаточно точно описывает исходную зависимость, о чем также говорит коэффициент детерминации $R^2$, равный 0.97."
   ]
  },
  {
   "cell_type": "code",
   "execution_count": 5,
   "id": "c23f6940",
   "metadata": {},
   "outputs": [
    {
     "name": "stdout",
     "output_type": "stream",
     "text": [
      "b0 (смещение) = -0.27245719813533587, b1 (коэффициенты признака x) = -0.31767029464733265\n",
      "Доверительный интервал для b0: (-0.43990578015466264, -0.10500861611600906)\n",
      "Доверительный интервал для b1: (-0.32807490801076106, -0.30726568128390425)\n"
     ]
    }
   ],
   "source": [
    "# Параметры модели линейной регрессии\n",
    "b0 = lin_reg.intercept_[0]\n",
    "b1 = lin_reg.coef_[0][0]\n",
    "print(f'b0 (смещение) = {b0}, b1 (коэффициенты признака x) = {b1}')\n",
    "\n",
    "# Вычисление ошибки параметров\n",
    "lin_model = sts.linregress(np.array(data['factor']), np.array(data['result']))\n",
    "b0_err, b1_err = lin_model.intercept_stderr, lin_model.stderr\n",
    "\n",
    "# Доверительные интервалы для коэффициентов регрессии\n",
    "alpha = 0.05\n",
    "b0_confidence_interval = sts.t.interval(1-alpha, df=len(data)-2, loc=b0, scale=b0_err)\n",
    "b1_confidence_interval = sts.t.interval(1-alpha, df=len(data)-2, loc=b1, scale=b1_err)\n",
    "print(f'Доверительный интервал для b0: {b0_confidence_interval}\\nДоверительный интервал для b1: {b1_confidence_interval}')"
   ]
  },
  {
   "cell_type": "markdown",
   "id": "ddf1400e",
   "metadata": {},
   "source": [
    "Поскольку доверительные интервалы для обоих коэффициентов не включают в себя ноль, можно говорить о значимости этих самых коэффициентов для модели и значимости модели в целом."
   ]
  },
  {
   "cell_type": "code",
   "execution_count": 6,
   "id": "6b1c3934",
   "metadata": {},
   "outputs": [
    {
     "name": "stdout",
     "output_type": "stream",
     "text": [
      "f-stat=3671.04, p-value=0.0\n"
     ]
    }
   ],
   "source": [
    "# Проверка адекватности модели с помощью F-критерия (критерия Фишера)\n",
    "adequacy = f_regression(X, y.reshape(len(data)))\n",
    "print(f'f-stat={adequacy[0][0].round(2)}, p-value={adequacy[1][0].round(2)}')"
   ]
  },
  {
   "cell_type": "markdown",
   "id": "23db29eb",
   "metadata": {},
   "source": [
    "Значение p-value для полученного значения f-статистики крайне мало, что говорит о значимости и адекватности построенной модели."
   ]
  },
  {
   "cell_type": "markdown",
   "id": "da0eabf9",
   "metadata": {},
   "source": [
    "## Задание 2. Тест Чоу: деление выборки по одной из качественных переменных"
   ]
  },
  {
   "cell_type": "code",
   "execution_count": 7,
   "id": "c77b6951",
   "metadata": {},
   "outputs": [
    {
     "data": {
      "text/html": [
       "<div>\n",
       "<style scoped>\n",
       "    .dataframe tbody tr th:only-of-type {\n",
       "        vertical-align: middle;\n",
       "    }\n",
       "\n",
       "    .dataframe tbody tr th {\n",
       "        vertical-align: top;\n",
       "    }\n",
       "\n",
       "    .dataframe thead th {\n",
       "        text-align: right;\n",
       "    }\n",
       "</style>\n",
       "<table border=\"1\" class=\"dataframe\">\n",
       "  <thead>\n",
       "    <tr style=\"text-align: right;\">\n",
       "      <th></th>\n",
       "      <th>col</th>\n",
       "      <th>cat1</th>\n",
       "      <th>cat2</th>\n",
       "      <th>res</th>\n",
       "    </tr>\n",
       "  </thead>\n",
       "  <tbody>\n",
       "    <tr>\n",
       "      <th>0</th>\n",
       "      <td>11.060606</td>\n",
       "      <td>0.0</td>\n",
       "      <td>0.0</td>\n",
       "      <td>-25.196182</td>\n",
       "    </tr>\n",
       "    <tr>\n",
       "      <th>1</th>\n",
       "      <td>20.151515</td>\n",
       "      <td>1.0</td>\n",
       "      <td>0.0</td>\n",
       "      <td>35.778727</td>\n",
       "    </tr>\n",
       "    <tr>\n",
       "      <th>2</th>\n",
       "      <td>8.838384</td>\n",
       "      <td>1.0</td>\n",
       "      <td>0.0</td>\n",
       "      <td>17.565945</td>\n",
       "    </tr>\n",
       "    <tr>\n",
       "      <th>3</th>\n",
       "      <td>6.212121</td>\n",
       "      <td>0.0</td>\n",
       "      <td>0.0</td>\n",
       "      <td>-16.618155</td>\n",
       "    </tr>\n",
       "    <tr>\n",
       "      <th>4</th>\n",
       "      <td>14.898990</td>\n",
       "      <td>1.0</td>\n",
       "      <td>1.0</td>\n",
       "      <td>25.967648</td>\n",
       "    </tr>\n",
       "  </tbody>\n",
       "</table>\n",
       "</div>"
      ],
      "text/plain": [
       "         col  cat1  cat2        res\n",
       "0  11.060606   0.0   0.0 -25.196182\n",
       "1  20.151515   1.0   0.0  35.778727\n",
       "2   8.838384   1.0   0.0  17.565945\n",
       "3   6.212121   0.0   0.0 -16.618155\n",
       "4  14.898990   1.0   1.0  25.967648"
      ]
     },
     "execution_count": 7,
     "metadata": {},
     "output_type": "execute_result"
    }
   ],
   "source": [
    "data = pd.read_csv('../data/stats/regression/2.txt', sep=',', header=None, names=['col', 'cat1', 'cat2', 'res'])\n",
    "data.head(5)"
   ]
  },
  {
   "cell_type": "markdown",
   "id": "184b7c25",
   "metadata": {},
   "source": [
    "Визуализируем данные в зависимости от значений каждой из качественных переменных."
   ]
  },
  {
   "cell_type": "code",
   "execution_count": 8,
   "id": "fc2ba81d",
   "metadata": {},
   "outputs": [
    {
     "data": {
      "image/png": "[encoded data removed]",
      "text/plain": [
       "<Figure size 432x288 with 1 Axes>"
      ]
     },
     "metadata": {
      "needs_background": "light"
     },
     "output_type": "display_data"
    },
    {
     "data": {
      "image/png": "[encoded data removed]",
      "text/plain": [
       "<Figure size 432x288 with 1 Axes>"
      ]
     },
     "metadata": {
      "needs_background": "light"
     },
     "output_type": "display_data"
    }
   ],
   "source": [
    "plt.title('Разбиение по переменной $cat1$')\n",
    "plt.scatter(data[data.cat1 == 0.0]['col'], data[data.cat1 == 0.0]['res'], color='red', label='cat1 = 0.0')\n",
    "plt.scatter(data[data.cat1 == 1.0]['col'], data[data.cat1 == 1.0]['res'], color='blue', label='cat1 = 1.0')\n",
    "plt.xlabel('$col$')\n",
    "plt.ylabel('$res$')\n",
    "plt.legend()\n",
    "plt.show()\n",
    "\n",
    "plt.title('Разбиение по переменной $cat2$')\n",
    "plt.scatter(data[data.cat2 == 0.0]['col'], data[data.cat2 == 0.0]['res'], color='red', label='cat2 = 0.0')\n",
    "plt.scatter(data[data.cat2 == 1.0]['col'], data[data.cat2 == 1.0]['res'], color='blue', label='cat2 = 1.0')\n",
    "plt.xlabel('$col$')\n",
    "plt.ylabel('$res$')\n",
    "plt.legend()\n",
    "plt.show()"
   ]
  },
  {
   "cell_type": "markdown",
   "id": "022c5eeb",
   "metadata": {},
   "source": [
    "По графикам видно, что выборка достаточно хорошо разделяется по значениям переменной `cat1`. Проверим это, рассчитав значение F-статистики для теста Чоу."
   ]
  },
  {
   "cell_type": "code",
   "execution_count": 9,
   "id": "a24e5b84",
   "metadata": {
    "scrolled": true
   },
   "outputs": [
    {
     "name": "stdout",
     "output_type": "stream",
     "text": [
      "****************************************************************************************************\n",
      "Reject the null hypothesis of equality of regression coefficients in the 2 periods.\n",
      "****************************************************************************************************\n",
      "Chow Statistic: 2218.1810199964625 p value: 0.0\n",
      "****************************************************************************************************\n",
      "\n",
      "****************************************************************************************************\n",
      "Fail to reject the null hypothesis of equality of regression coefficients in the 2 periods.\n",
      "****************************************************************************************************\n",
      "Chow Statistic: 0.31906931549821266 p value: 0.90112\n",
      "****************************************************************************************************\n"
     ]
    }
   ],
   "source": [
    "# Тест Чоу для разбиения по cat1\n",
    "# Переформируем данные, чтобы сначала шли строки с cat1 = 0 (100 элементов), затем с cat2 = 1 (100 элементов)\n",
    "df = pd.concat([data[data.cat1 == 0.0], data[data.cat1 == 1.0]], ignore_index=True)\n",
    "chow_cat1 = chowtest(X=df[['col', 'cat1']], \n",
    "                     y=pd.DataFrame(df['res']),\n",
    "                     last_index_in_model_1=99, \n",
    "                     first_index_in_model_2=100,\n",
    "                     significance_level=0.05)\n",
    "\n",
    "print()\n",
    "\n",
    "# Тест Чоу для разбиения по cat2\n",
    "# Переформируем данные, чтобы сначала шли строки с cat2 = 0 (95 элементов), затем с cat2 = 1 (105 элементов)\n",
    "df = pd.concat([data[data.cat2 == 0.0], data[data.cat2 == 1.0]], ignore_index=True)\n",
    "chow_cat2 = chowtest(X=df[['col', 'cat2']], \n",
    "                     y=pd.DataFrame(df['res']),\n",
    "                     last_index_in_model_1=94, \n",
    "                     first_index_in_model_2=95,\n",
    "                     significance_level=0.05)"
   ]
  },
  {
   "cell_type": "markdown",
   "id": "589dfd48",
   "metadata": {},
   "source": [
    "Полученное значение для `cat1` сильно больше критического, p-value крайне мало, что говорит об отвержении $H0$ об однородности данных, чего нельзя сказать про разбиение по `cat2`. \n",
    "\n",
    "Произведем разбиение по `cat1` и построим две линейные регрессии для каждой из подвыборок. Визуализируем полученный результат."
   ]
  },
  {
   "cell_type": "code",
   "execution_count": 10,
   "id": "985806c1",
   "metadata": {},
   "outputs": [
    {
     "data": {
      "image/png": "[encoded data removed]",
      "text/plain": [
       "<Figure size 432x288 with 1 Axes>"
      ]
     },
     "metadata": {
      "needs_background": "light"
     },
     "output_type": "display_data"
    }
   ],
   "source": [
    "# Разбиение\n",
    "sample1 = data[data.cat1 == 0]\n",
    "sample2 = data[data.cat1 == 1]\n",
    "\n",
    "# Создание моделей и подготовка данных\n",
    "lin_reg1 = LinearRegression()\n",
    "X1 = np.array(sample1['col']).reshape((-1, 1))\n",
    "y1 = np.array(sample1['res']).reshape((-1, 1))\n",
    "\n",
    "lin_reg2 = LinearRegression()\n",
    "X2 = np.array(sample2['col']).reshape((-1, 1))\n",
    "y2 = np.array(sample2['res']).reshape((-1, 1))\n",
    "\n",
    "# Обучение и предсказание\n",
    "lin_reg1.fit(X1, y1)\n",
    "y1_predicted = lin_reg1.predict(X1)\n",
    "\n",
    "lin_reg2.fit(X2, y2)\n",
    "y2_predicted = lin_reg2.predict(X2)\n",
    "\n",
    "# Построение графика\n",
    "plt.title('Итоговая модель')\n",
    "plt.scatter(X1, y1, alpha=0.2, color='red', label='cat1 = 0.0')\n",
    "plt.plot(X1, y1_predicted, color='red')\n",
    "\n",
    "plt.scatter(X2, y2, alpha=0.2, color='blue', label='cat1 = 1.0')\n",
    "plt.plot(X2, y2_predicted, color='blue')\n",
    "\n",
    "plt.xlabel('$col$')\n",
    "plt.ylabel('$res$')\n",
    "plt.legend()\n",
    "plt.show()\n"
   ]
  },
  {
   "cell_type": "markdown",
   "id": "243f504e",
   "metadata": {},
   "source": [
    "## Задание 3. Тест Спирмена и тест Гольдфельда-Квандта: определение гетероскедастичности в данных"
   ]
  },
  {
   "cell_type": "code",
   "execution_count": 11,
   "id": "ebfb06c5",
   "metadata": {},
   "outputs": [
    {
     "data": {
      "text/html": [
       "<div>\n",
       "<style scoped>\n",
       "    .dataframe tbody tr th:only-of-type {\n",
       "        vertical-align: middle;\n",
       "    }\n",
       "\n",
       "    .dataframe tbody tr th {\n",
       "        vertical-align: top;\n",
       "    }\n",
       "\n",
       "    .dataframe thead th {\n",
       "        text-align: right;\n",
       "    }\n",
       "</style>\n",
       "<table border=\"1\" class=\"dataframe\">\n",
       "  <thead>\n",
       "    <tr style=\"text-align: right;\">\n",
       "      <th></th>\n",
       "      <th>factor</th>\n",
       "      <th>result</th>\n",
       "    </tr>\n",
       "  </thead>\n",
       "  <tbody>\n",
       "    <tr>\n",
       "      <th>0</th>\n",
       "      <td>5.000000</td>\n",
       "      <td>-16.316520</td>\n",
       "    </tr>\n",
       "    <tr>\n",
       "      <th>1</th>\n",
       "      <td>5.202020</td>\n",
       "      <td>-17.906738</td>\n",
       "    </tr>\n",
       "    <tr>\n",
       "      <th>2</th>\n",
       "      <td>5.404040</td>\n",
       "      <td>-17.031396</td>\n",
       "    </tr>\n",
       "    <tr>\n",
       "      <th>3</th>\n",
       "      <td>5.606061</td>\n",
       "      <td>-17.685788</td>\n",
       "    </tr>\n",
       "    <tr>\n",
       "      <th>4</th>\n",
       "      <td>5.808081</td>\n",
       "      <td>-21.497556</td>\n",
       "    </tr>\n",
       "  </tbody>\n",
       "</table>\n",
       "</div>"
      ],
      "text/plain": [
       "     factor     result\n",
       "0  5.000000 -16.316520\n",
       "1  5.202020 -17.906738\n",
       "2  5.404040 -17.031396\n",
       "3  5.606061 -17.685788\n",
       "4  5.808081 -21.497556"
      ]
     },
     "execution_count": 11,
     "metadata": {},
     "output_type": "execute_result"
    }
   ],
   "source": [
    "data = pd.read_csv('../data/stats/regression/3.txt', sep=',', header=None, names=['factor', 'result'])\n",
    "data.head(5)"
   ]
  },
  {
   "cell_type": "markdown",
   "id": "ba6f22db",
   "metadata": {},
   "source": [
    "Визуализируем данные, чтобы увидеть линейную зависимость, если она действительно есть."
   ]
  },
  {
   "cell_type": "code",
   "execution_count": 12,
   "id": "2f9b7b95",
   "metadata": {},
   "outputs": [
    {
     "data": {
      "image/png": "[encoded data removed]",
      "text/plain": [
       "<Figure size 432x288 with 1 Axes>"
      ]
     },
     "metadata": {
      "needs_background": "light"
     },
     "output_type": "display_data"
    }
   ],
   "source": [
    "plt.title('Исходные данные')\n",
    "plt.scatter(data['factor'], data['result'], alpha=0.7, color='blue')\n",
    "plt.xlabel('factor')\n",
    "plt.ylabel('result')\n",
    "plt.show()"
   ]
  },
  {
   "cell_type": "markdown",
   "id": "0af08661",
   "metadata": {},
   "source": [
    "По приведенному графику видно, что в данных присутсвует гетероскедастичность, однако линейная зависимость все равно заметна. \n",
    "\n",
    "Проверим нашу гипотезу с помощью **теста Спирмена**."
   ]
  },
  {
   "cell_type": "code",
   "execution_count": 13,
   "id": "c2dace00",
   "metadata": {},
   "outputs": [
    {
     "name": "stdout",
     "output_type": "stream",
     "text": [
      "Коэфф. корреляции остатков и факторной переменной = -0.9704770477047704.\n",
      "p-value = 0.0.\n",
      "H0 об отсутствии гетероскедастичности отклоняется.\n"
     ]
    }
   ],
   "source": [
    "spearman_test = sts.spearmanr(data['factor'], data['result'])\n",
    "print(f'Коэфф. корреляции остатков и факторной переменной = {spearman_test.correlation}.\\n' +\n",
    "      f'p-value = {spearman_test.pvalue.round(2)}.\\n' +\n",
    "      'H0 об отсутствии гетероскедастичности' + (' отклоняется.' if spearman_test.pvalue < 0.05 else ' принимается.'))"
   ]
  },
  {
   "cell_type": "markdown",
   "id": "7478a537",
   "metadata": {},
   "source": [
    "Также проверить это можно с помощью **теста Гольдфельда-Квандта**."
   ]
  },
  {
   "cell_type": "code",
   "execution_count": 14,
   "id": "80c3c721",
   "metadata": {},
   "outputs": [
    {
     "name": "stdout",
     "output_type": "stream",
     "text": [
      "F-статистика проведённого эксперимента = 2.5423258740080383.\n",
      "p-value = 0.0007034386038295393.\n",
      "H0 об отсутствии гетероскедастичности отклоняется.\n"
     ]
    }
   ],
   "source": [
    "f_stat, p_value, _ = het_goldfeldquandt(x=pd.DataFrame(data['factor']), y=data['result'])\n",
    "print(f'F-статистика проведённого эксперимента = {f_stat}.\\n' +\n",
    "      f'p-value = {p_value}.\\n' +\n",
    "      'H0 об отсутствии гетероскедастичности' + (' отклоняется.' if p_value < 0.05 else ' принимается.'))"
   ]
  },
  {
   "cell_type": "markdown",
   "id": "f54e6c11",
   "metadata": {},
   "source": [
    "Далее построим линейную регрессию и оценим значимость её коэффициентов и общую адекватность модели."
   ]
  },
  {
   "cell_type": "code",
   "execution_count": 15,
   "id": "c2aebd68",
   "metadata": {},
   "outputs": [
    {
     "data": {
      "image/png": "[encoded data removed]",
      "text/plain": [
       "<Figure size 432x288 with 1 Axes>"
      ]
     },
     "metadata": {
      "needs_background": "light"
     },
     "output_type": "display_data"
    }
   ],
   "source": [
    "# Создание модели и подготовка данных\n",
    "lin_reg = LinearRegression()\n",
    "X = np.array(data['factor']).reshape((-1, 1))\n",
    "y = np.array(data['result']).reshape((-1, 1))\n",
    "\n",
    "# Обучение и предсказание, расчет метрики R^2\n",
    "lin_reg.fit(X, y)\n",
    "y_predicted = lin_reg.predict(X)\n",
    "r2 = lin_reg.score(X, y)\n",
    "\n",
    "# Построение графика\n",
    "plt.title(f'Linear regression. $R^2$={r2.round(2)}')\n",
    "plt.scatter(X, y, alpha=0.5, color='blue')\n",
    "plt.plot(X, y_predicted, color='red')\n",
    "plt.xlabel('$factor$')\n",
    "plt.ylabel('$result$')\n",
    "plt.show()"
   ]
  },
  {
   "cell_type": "markdown",
   "id": "8be0013e",
   "metadata": {},
   "source": [
    "По графику видно, что несмотря на гетероскедастичность линейная модель смогла достаточно хорошо описать имеющиеся данные, так как коэффициент детерминации $R^2$ равен 0.93.\n",
    "\n",
    "Оценим значимость коэффициентов полученной модели."
   ]
  },
  {
   "cell_type": "code",
   "execution_count": 16,
   "id": "295b1a54",
   "metadata": {},
   "outputs": [
    {
     "name": "stdout",
     "output_type": "stream",
     "text": [
      "b0 (смещение) = -2.756996354231333, b1 (коэффициенты признака x) = -2.8556387105635714\n",
      "Доверительный интервал для b0: (-5.269871021981009, -0.24412168648165666)\n",
      "Доверительный интервал для b1: (-3.0117791151784714, -2.6994983059486715)\n"
     ]
    }
   ],
   "source": [
    "# Параметры модели линейной регрессии\n",
    "b0 = lin_reg.intercept_[0]\n",
    "b1 = lin_reg.coef_[0][0]\n",
    "print(f'b0 (смещение) = {b0}, b1 (коэффициенты признака x) = {b1}')\n",
    "\n",
    "# Вычисление ошибки параметров\n",
    "lin_model = sts.linregress(np.array(data['factor']), np.array(data['result']))\n",
    "b0_err, b1_err = lin_model.intercept_stderr, lin_model.stderr\n",
    "\n",
    "# Доверительные интервалы для коэффициентов регрессии\n",
    "alpha = 0.05\n",
    "b0_confidence_interval = sts.t.interval(1-alpha, df=len(data)-2, loc=b0, scale=b0_err)\n",
    "b1_confidence_interval = sts.t.interval(1-alpha, df=len(data)-2, loc=b1, scale=b1_err)\n",
    "print(f'Доверительный интервал для b0: {b0_confidence_interval}\\nДоверительный интервал для b1: {b1_confidence_interval}')"
   ]
  },
  {
   "cell_type": "markdown",
   "id": "1c3ea917",
   "metadata": {},
   "source": [
    "Поскольку доверительные интервалы для обоих коэффициентов не включают в себя ноль, можно говорить о значимости этих самых коэффициентов для модели и значимости модели в целом."
   ]
  },
  {
   "cell_type": "code",
   "execution_count": 17,
   "id": "5558d9bf",
   "metadata": {},
   "outputs": [
    {
     "name": "stdout",
     "output_type": "stream",
     "text": [
      "f-stat=1317.24, p-value=0.0\n"
     ]
    }
   ],
   "source": [
    "# Проверка адекватности модели с помощью F-критерия (критерия Фишера)\n",
    "adequacy = f_regression(X, y.reshape(len(data)))\n",
    "print(f'f-stat={adequacy[0][0].round(2)}, p-value={adequacy[1][0].round(2)}')"
   ]
  },
  {
   "cell_type": "markdown",
   "id": "6069be9e",
   "metadata": {},
   "source": [
    "Значение p-value для полученного значения f-статистики крайне мало, что говорит о значимости и адекватности построенной модели. \n",
    "\n",
    "Можем сделать вывод, что гетероскедастичность в исходных данных значимо не повлияла на качество модели линейной регрессии."
   ]
  }
 ],
 "metadata": {
  "kernelspec": {
   "display_name": "Python 3 (ipykernel)",
   "language": "python",
   "name": "python3"
  },
  "language_info": {
   "codemirror_mode": {
    "name": "ipython",
    "version": 3
   },
   "file_extension": ".py",
   "mimetype": "text/x-python",
   "name": "python",
   "nbconvert_exporter": "python",
   "pygments_lexer": "ipython3",
   "version": "3.8.12"
  }
 },
 "nbformat": 4,
 "nbformat_minor": 5
}
