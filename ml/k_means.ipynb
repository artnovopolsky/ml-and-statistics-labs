{
 "cells": [
  {
   "cell_type": "code",
   "execution_count": 1,
   "id": "8138e2d7-efc4-4ee0-850d-2a40aea27e4d",
   "metadata": {},
   "outputs": [],
   "source": [
    "import random\n",
    "from itertools import product\n",
    "from PIL import Image\n",
    "from matplotlib import pyplot as plt"
   ]
  },
  {
   "cell_type": "markdown",
   "id": "6e09fbd2-90bc-49a8-a050-13602419d75f",
   "metadata": {},
   "source": [
    "В данной части лабораторной работе предлагается кластеризовать данные с помощью алгоритма k-средних.\n",
    "В качестве данных предлагается картинка в формате RGB. Необходимо кластеризовать пиксели по цветам, усреднить цвет в полученных кластерах и снизить в итоге количество цветов, используемых для отображения картинки.\n",
    "\n",
    "Для выполнения данной работы необходимо заполнить код в следующих функциях:\n",
    "1. `init_centroids` - расчет начальных положений центроидов\n",
    "2. `find_closest_centroid `- нахождение ближайшего центроида\n",
    "3. `compute_cluster_center` - расчет центра кластера\n",
    "4. `kmeans` - реализация алгоритма k-средних"
   ]
  },
  {
   "cell_type": "code",
   "execution_count": 2,
   "id": "35e0ee0f-3288-4f1b-b37c-a0ce5bafa99d",
   "metadata": {},
   "outputs": [],
   "source": [
    "def init_centroids(data, k):\n",
    "\n",
    "    # Функция для расчета начальных положений центроидов.\n",
    "    # Принимает data - список кортежей - точек в пространстве признаков,\n",
    "    # k - желаемое число кластеров (и центроидов, соответственно).\n",
    "    # Должна вернуть список начальных положений центроидов. Предлагается выбрать случайно k объектов из data и\n",
    "    # поставить в их положения центроиды.\n",
    "\n",
    "    result = random.sample(data, k)  # список положений (кортежей) центроидов, нужно заполнить.\n",
    "\n",
    "    return result"
   ]
  },
  {
   "cell_type": "code",
   "execution_count": 3,
   "id": "5400b0ab-571b-4bb1-b57e-59a7b89356dc",
   "metadata": {},
   "outputs": [],
   "source": [
    "def find_closest_centroid(value, centroids):\n",
    "\n",
    "    # Функция для нахождения ближайшего центроида к заданной точке в пространстве признаков.\n",
    "    # Принимает value - точка (кортеж) в пространстве признаков, centroids - список кортежей положений центроидов.\n",
    "    # Должна вернуть индекс ближайшего центроида в списке centroids.\n",
    "        \n",
    "    euclidean_distances = [sum(tuple((v - c) ** 2 for v, c in zip(value, centroid))) ** 0.5 for centroid in centroids]\n",
    "    closest_index = euclidean_distances.index(min(euclidean_distances))  # индекс ближайшего центроида\n",
    "    \n",
    "    return closest_index"
   ]
  },
  {
   "cell_type": "code",
   "execution_count": 4,
   "id": "4e2e73a4-4d33-4b7e-b5b6-95ea2208c7d7",
   "metadata": {},
   "outputs": [],
   "source": [
    "def compute_cluster_center(cluster_data):\n",
    "\n",
    "    # Функция для расчета центра кластера. Принимает на вход cluster_data - список кортежей точек в\n",
    "    # пространстве признаков, соответствующих данным из выборки.\n",
    "    # Должна вернуть кортеж - центр кластера.\n",
    "\n",
    "    result = [1 / len(cluster_data) * sum(col) for col in zip(*cluster_data)]  # центр кластера в виде списка\n",
    "\n",
    "    return tuple(round(r) for r in result)"
   ]
  },
  {
   "cell_type": "code",
   "execution_count": 5,
   "id": "a954235c-d01e-400e-8264-ff5ff509831a",
   "metadata": {},
   "outputs": [],
   "source": [
    "def kmeans(data, k):\n",
    "\n",
    "    # Функция, реализующая алгоритм k-средних.\n",
    "    # Принимает на вход data - список положений (кортежей) точек в пространстве признаков (по сути, данные),\n",
    "    # k - число желаемых кластеров в итоге.\n",
    "    # Должна вернуть список кластеров (списков) положений (кортежей), содержащих все точки, принадлежащие всем кластерам,\n",
    "    # и список положений (кортежей) центроидов соответствующих кластеров.\n",
    "\n",
    "    centroids = init_centroids(data, k)  # список положений центроидов\n",
    "    while True:\n",
    "\n",
    "        clusters = [list() for _ in centroids]  # список списков положений точек для всех центроидов\n",
    "        for value in data:\n",
    "            cent_index = find_closest_centroid(value, centroids)\n",
    "            clusters[cent_index].append(value)\n",
    "        \n",
    "        centers = [compute_cluster_center(cluster) for cluster in clusters]  # вычисление центров кластеров\n",
    "        \n",
    "        if centers == centroids:  # выход из цикла, когда расчет центра совпал с текущим положением центроида для всех центроидов\n",
    "            break\n",
    "        else:\n",
    "            centroids = centers  # иначе перенос соответствующих центроидов в центры\n",
    "\n",
    "    return clusters, centroids"
   ]
  },
  {
   "cell_type": "code",
   "execution_count": 6,
   "id": "36d9982a-6715-4564-a843-5dfd7df2fd75",
   "metadata": {},
   "outputs": [
    {
     "data": {
      "image/png": "[encoded data removed]",
      "text/plain": [
       "<Figure size 432x288 with 1 Axes>"
      ]
     },
     "metadata": {
      "needs_background": "light"
     },
     "output_type": "display_data"
    },
    {
     "name": "stdout",
     "output_type": "stream",
     "text": [
      "Положения центроидов для модельного случая (должны быть близки к [(0, 0), (70, 10), (30, 40)] с точностью до порядка): [(70, 9), (29, 41), (0, 1)]\n"
     ]
    },
    {
     "data": {
      "image/png": "[encoded data removed]",
      "text/plain": [
       "<Figure size 432x288 with 1 Axes>"
      ]
     },
     "metadata": {
      "needs_background": "light"
     },
     "output_type": "display_data"
    },
    {
     "name": "stdout",
     "output_type": "stream",
     "text": [
      "\n",
      "Загруза картинки из файла \"image.png\".\n",
      "\n",
      "Запуск алгоритма k-средних (может занять время..)\n",
      "Сокращение количества цветов на картинке.\n",
      "Успех! Результат в файле \"result.png\" (обратите внимаение на размер результата в килобайтах).\n"
     ]
    }
   ],
   "source": [
    "model_centers = [(0, 0), (70, 10), (30, 40)]\n",
    "model_data = [(random.gauss(c[0], 7), random.gauss(c[1], 7)) for c in model_centers for _ in range(100)]\n",
    "\n",
    "plt.scatter(*[list(map(lambda x: x[i], model_data)) for i in range(2)], marker='o')\n",
    "plt.show()\n",
    "\n",
    "model_clusts, model_centrs = kmeans(model_data, 3)\n",
    "print(f'Положения центроидов для модельного случая (должны быть близки к {model_centers} с точностью до порядка): '\n",
    "      f'{model_centrs}')\n",
    "\n",
    "for i in range(len(model_clusts)):\n",
    "    plt.scatter(*[list(map(lambda x: x[j], model_clusts[i])) for j in range(2)],\n",
    "                marker='o',\n",
    "                c=('r', 'g', 'b')[i])\n",
    "plt.scatter(*[list(map(lambda x: x[j], model_centrs)) for j in range(2)],\n",
    "            marker='x',\n",
    "            c='black', s=[100] * len(model_clusts))\n",
    "plt.show()\n",
    "\n",
    "print()\n",
    "print('Загруза картинки из файла \"image.png\".')\n",
    "image = Image.open('../data/ml/kmeans/image.png')\n",
    "image_pixels = image.load()\n",
    "data = [image_pixels[x, y] for x, y in product(range(image.size[0]), range(image.size[1]))]\n",
    "\n",
    "# количество цветов, которе остается на результирующей картинке (можно поварьировать,\n",
    "# но от него сильно зависит время выполнения)\n",
    "clusters_num = 8\n",
    "\n",
    "print()\n",
    "print('Запуск алгоритма k-средних (может занять время..)')\n",
    "clusts, centrs = kmeans(data, clusters_num)\n",
    "\n",
    "\n",
    "print('Сокращение количества цветов на картинке.')\n",
    "for x, y in product(range(image.size[0]), range(image.size[1])):\n",
    "    for i in range(len(clusts)):\n",
    "        if image_pixels[x, y] in clusts[i]:\n",
    "            image_pixels[x, y] = centrs[i]\n",
    "            break\n",
    "image.save('../data/ml/kmeans/result.png')\n",
    "\n",
    "print('Успех! Результат в файле \"result.png\" (обратите внимаение на размер результата в килобайтах).')"
   ]
  }
 ],
 "metadata": {
  "kernelspec": {
   "display_name": "Python 3 (ipykernel)",
   "language": "python",
   "name": "python3"
  },
  "language_info": {
   "codemirror_mode": {
    "name": "ipython",
    "version": 3
   },
   "file_extension": ".py",
   "mimetype": "text/x-python",
   "name": "python",
   "nbconvert_exporter": "python",
   "pygments_lexer": "ipython3",
   "version": "3.8.12"
  }
 },
 "nbformat": 4,
 "nbformat_minor": 5
}
