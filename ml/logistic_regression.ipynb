{
 "cells": [
  {
   "cell_type": "code",
   "execution_count": 1,
   "id": "c1420d59",
   "metadata": {
    "tags": []
   },
   "outputs": [],
   "source": [
    "import numpy as np\n",
    "from scipy.optimize import minimize\n",
    "from matplotlib import pyplot as plt\n",
    "import warnings\n",
    "warnings.filterwarnings('ignore')"
   ]
  },
  {
   "cell_type": "markdown",
   "id": "dde5d828",
   "metadata": {},
   "source": [
    "### Задание\n",
    "\n",
    "В этой лабораторной работе вам предстоит обучить модель логистической регрессии.\n",
    "Представьте, что вы сотрудник приемной комиссии и хотите оценить шансы студента на прохождение на бюджет.\n",
    "У вас есть исторические данные о сдачах студентами двух входных экзаменов по 100-балльной шкале.\n",
    "Кроме того, данные размечены. То есть студенты, прошедшие отбор помечены меткой 1, остальные 0.\n",
    "\n",
    "Ваша задача - заполнить код в функциях:\n",
    "- `logistic` - вычисляет логистическую функцию от аргумента,\n",
    "- `compute_cost` - вычисляет функцию стоимости,\n",
    "- `compute_cost_grad` - вычисляет градиент функции стоимости.\n",
    "\n",
    "В данной задаче будет использоваться градиентный метод оптимизации, определенный в библиотеке `scipy`, так что\n",
    "не нужно реализовывать градиентный спуск.\n",
    "\n",
    "По ходу работы смотрите в консоль. Там будут выводиться результаты написанных вами функций и ожидаемые результаты.\n",
    "Так вы сможете проверить себя.\n",
    "\n",
    "*Комментарии к графикам*:\n",
    "- Первый график - исходные данные\n",
    "- Второй - исходные данные с результатом работы модели - границей решений.\n",
    "- Черным цветом обозначено поле, попадание точки в которое означает ее принадлежность к 1 классу (студент проходит на бюджет), белым - принадлежность к 0 классу (не проходит на бюджет)."
   ]
  },
  {
   "cell_type": "code",
   "execution_count": 2,
   "id": "679381de",
   "metadata": {},
   "outputs": [],
   "source": [
    "def logistic(z):\n",
    "\n",
    "    # Функция принимает аргумент z - скаляр, вектор или матрицу в виде объекта numpy.array()\n",
    "    # Должна возвращать скяляр, вектор или матрицу (в зависимости от размерности z)\n",
    "    # результатов вычисления логистической функции от элементов z\n",
    "    \n",
    "    result = 1 / (1 + np.exp(-z))\n",
    "    return result\n",
    "\n",
    "\n",
    "def compute_cost(X, y, theta):\n",
    "\n",
    "    # Функция принимает матрицу данный X, вектор целевых переменных y и вектор параметров theta.\n",
    "    # Должна возвратить число - результат вычисления функции стоимости в точке theta.\n",
    "    \n",
    "    cost = np.mean(-(y * np.log(logistic(X @ theta))) - (1 - y) * np.log(1 - logistic(X @ theta)))\n",
    "    return cost\n",
    "\n",
    "\n",
    "def compute_cost_grad(X, y, theta):\n",
    "    # Функция принимает матрицу данный X, вектор целевых переменных y и вектор параметров theta.\n",
    "    # Должна возвратить вектор координат градиента функции стоимости в точке theta.\n",
    "    \n",
    "    m, n = X.shape  # m - количество примеров в выборке, n - количество признаков у каждого примера\n",
    "    grad = 1 / m * ((logistic(X @ theta) - y).T @ X)  # вектор градиента функции стоимости по theta, его нужно заполнить\n",
    "    return grad\n",
    "\n",
    "\n",
    "def load_data(data_file_path):\n",
    "    with open(data_file_path) as input_file:\n",
    "        X = list()\n",
    "        y = list()\n",
    "        for line in input_file:\n",
    "            *row, label = map(float, line.split(','))\n",
    "            X.append([1] + row)\n",
    "            y.append(label)\n",
    "        return np.array(X, float), np.array(y, float)"
   ]
  },
  {
   "cell_type": "code",
   "execution_count": 3,
   "id": "3a8dafb4",
   "metadata": {},
   "outputs": [
    {
     "name": "stdout",
     "output_type": "stream",
     "text": [
      "logistic(0) = 0.5 (должно быть 0.5)\n",
      "logistic(-10) = 4.5397868702434395e-05 (должно быть ~0)\n",
      "logistic(10) = 0.9999546021312976 (должно быть ~1)\n"
     ]
    },
    {
     "data": {
      "image/png": "[encoded data removed]",
      "text/plain": [
       "<Figure size 432x288 with 1 Axes>"
      ]
     },
     "metadata": {
      "needs_background": "light"
     },
     "output_type": "display_data"
    },
    {
     "name": "stdout",
     "output_type": "stream",
     "text": [
      "Функция стоимости при начальном theta = 0.6931471805599453 (должно быть ~0.693)\n",
      "Минимизация функции стоимости прошла успешно.\n",
      "Функция стоимости при оптимальном theta = 0.20349770159510136 (должно быть ~0.203)\n"
     ]
    },
    {
     "data": {
      "image/png": "[encoded data removed]",
      "text/plain": [
       "<Figure size 432x288 with 2 Axes>"
      ]
     },
     "metadata": {
      "needs_background": "light"
     },
     "output_type": "display_data"
    }
   ],
   "source": [
    "X, y = load_data('../data/ml/logreg/lab2data1.txt')\n",
    "\n",
    "print(f'logistic(0) = {logistic(np.array(0))} (должно быть 0.5)\\n'\n",
    "      f'logistic(-10) = {logistic(np.array(-10))} (должно быть ~0)\\n'\n",
    "      f'logistic(10) = {logistic(np.array(10))} (должно быть ~1)')\n",
    "\n",
    "plt.title('Исходные данные')\n",
    "plt.scatter(X[y == 0][:, 1], X[y == 0][:, 2], c='r', marker='o')\n",
    "plt.scatter(X[y == 1][:, 1], X[y == 1][:, 2], c='g', marker='x')\n",
    "plt.show()\n",
    "\n",
    "init_theta = np.zeros((X.shape[1], 1))\n",
    "cost0 = compute_cost(X, y, init_theta)\n",
    "print(f'Функция стоимости при начальном theta = {cost0} (должно быть ~0.693)')\n",
    "\n",
    "opt_theta_obj = minimize(lambda th: compute_cost(X, y, th), init_theta,\n",
    "                         method='CG',\n",
    "                         jac=lambda th: compute_cost_grad(X, y, th),\n",
    "                         options={'gtol': 1e-5, 'maxiter': 200, 'disp': False})\n",
    "\n",
    "print('Минимизация функции стоимости ' + ('прошла успешно.' if opt_theta_obj.success else 'не удалась.'))\n",
    "opt_theta = opt_theta_obj.x\n",
    "\n",
    "opt_cost = compute_cost(X, y, opt_theta)\n",
    "print(f'Функция стоимости при оптимальном theta = {opt_cost} (должно быть ~0.203)')\n",
    "\n",
    "hm = np.zeros((100, 100))\n",
    "for i in range(100):\n",
    "    for j in range(100):\n",
    "        hm[i, j] = round(logistic(opt_theta @ np.array([1, j, i])))\n",
    "c = plt.pcolor(range(101), range(101), hm, cmap='Greys')\n",
    "plt.colorbar(c)\n",
    "\n",
    "plt.title('Построенная граница решений')\n",
    "plt.scatter(X[y == 0][:, 1], X[y == 0][:, 2], c='r', marker='o')\n",
    "plt.scatter(X[y == 1][:, 1], X[y == 1][:, 2], c='g', marker='x')\n",
    "plt.show()"
   ]
  }
 ],
 "metadata": {
  "kernelspec": {
   "display_name": "Python 3 (ipykernel)",
   "language": "python",
   "name": "python3"
  },
  "language_info": {
   "codemirror_mode": {
    "name": "ipython",
    "version": 3
   },
   "file_extension": ".py",
   "mimetype": "text/x-python",
   "name": "python",
   "nbconvert_exporter": "python",
   "pygments_lexer": "ipython3",
   "version": "3.8.12"
  }
 },
 "nbformat": 4,
 "nbformat_minor": 5
}
